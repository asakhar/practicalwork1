{
 "cells": [
  {
   "cell_type": "code",
   "execution_count": 5,
   "metadata": {},
   "outputs": [],
   "source": [
    "from compression_demo import compress, decompress"
   ]
  },
  {
   "cell_type": "code",
   "execution_count": 26,
   "metadata": {},
   "outputs": [
    {
     "name": "stdout",
     "output_type": "stream",
     "text": [
      "Национальный Исследовательский Университет Высшая Школа Экономики\n"
     ]
    }
   ],
   "source": [
    "initmes = input()"
   ]
  },
  {
   "cell_type": "code",
   "execution_count": 27,
   "metadata": {},
   "outputs": [],
   "source": [
    "commes, d, d1 = compress(initmes)"
   ]
  },
  {
   "cell_type": "code",
   "execution_count": 28,
   "metadata": {},
   "outputs": [
    {
     "data": {
      "text/plain": [
       "{'Н': '100100',\n",
       " 'а': '1100',\n",
       " 'ц': '100101',\n",
       " 'и': '000',\n",
       " 'о': '1101',\n",
       " 'н': '0011',\n",
       " 'л': '0100',\n",
       " 'ь': '01110',\n",
       " 'ы': '01111',\n",
       " 'й': '10000',\n",
       " ' ': '1110',\n",
       " 'И': '100110',\n",
       " 'с': '1111',\n",
       " 'е': '0101',\n",
       " 'д': '100111',\n",
       " 'в': '10001',\n",
       " 'т': '0010',\n",
       " 'к': '0110',\n",
       " 'У': '101000',\n",
       " 'р': '101001',\n",
       " 'В': '101010',\n",
       " 'ш': '101011',\n",
       " 'я': '101100',\n",
       " 'Ш': '101101',\n",
       " 'Э': '101110',\n",
       " 'м': '101111'}"
      ]
     },
     "execution_count": 28,
     "metadata": {},
     "output_type": "execute_result"
    }
   ],
   "source": [
    "d1"
   ]
  },
  {
   "cell_type": "code",
   "execution_count": 29,
   "metadata": {},
   "outputs": [
    {
     "data": {
      "text/plain": [
       "'1001001100100101000110100111100010001110001101111100001110100110111111110100010110011111011000111000010010101000111011110110000100001110101000001100010001010110100111110000010010100101110101010011111111101011110010110011101011010110110101001100111010111001101101001111011011110000110000'"
      ]
     },
     "execution_count": 29,
     "metadata": {},
     "output_type": "execute_result"
    }
   ],
   "source": [
    "commes"
   ]
  },
  {
   "cell_type": "code",
   "execution_count": 30,
   "metadata": {},
   "outputs": [
    {
     "name": "stdout",
     "output_type": "stream",
     "text": [
      "Длинна исходной строки в байтах (16 битная кодировка): 130\n",
      "Длинна закодированной строки в байтах + таблица встречаемости: 36 + 104\n"
     ]
    }
   ],
   "source": [
    "print(f'Длинна исходной строки в байтах (16 битная кодировка): {len(initmes)*2}')\n",
    "print(f'Длинна закодированной строки в байтах + таблица встречаемости: {len(commes)//8 + (len(commes)%8 != 0)} + {len(d)*4}')"
   ]
  },
  {
   "cell_type": "code",
   "execution_count": null,
   "metadata": {},
   "outputs": [],
   "source": []
  }
 ],
 "metadata": {
  "kernelspec": {
   "display_name": "Python 3",
   "language": "python",
   "name": "python3"
  },
  "language_info": {
   "codemirror_mode": {
    "name": "ipython",
    "version": 3
   },
   "file_extension": ".py",
   "mimetype": "text/x-python",
   "name": "python",
   "nbconvert_exporter": "python",
   "pygments_lexer": "ipython3",
   "version": "3.7.4"
  }
 },
 "nbformat": 4,
 "nbformat_minor": 2
}
